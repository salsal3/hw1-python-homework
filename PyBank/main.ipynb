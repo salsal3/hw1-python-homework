{
 "cells": [
  {
   "cell_type": "markdown",
   "source": [
    "# HW2 - PyBank Python Homework"
   ],
   "metadata": {}
  },
  {
   "cell_type": "markdown",
   "source": [
    "## Setup imports and csv"
   ],
   "metadata": {}
  },
  {
   "cell_type": "code",
   "execution_count": 1,
   "source": [
    "# Imports\r\n",
    "from pathlib import Path\r\n",
    "import pandas as pd\r\n",
    "import numpy as np"
   ],
   "outputs": [],
   "metadata": {}
  },
  {
   "cell_type": "code",
   "execution_count": 2,
   "source": [
    "# Read csv file\r\n",
    "path = Path('../PyBank/Resources/budget_data.csv')\r\n",
    "\r\n",
    "# Create dataframe\r\n",
    "df = pd.read_csv(path)\r\n",
    "\r\n",
    "df.head()"
   ],
   "outputs": [
    {
     "output_type": "execute_result",
     "data": {
      "text/html": [
       "<div>\n",
       "<style scoped>\n",
       "    .dataframe tbody tr th:only-of-type {\n",
       "        vertical-align: middle;\n",
       "    }\n",
       "\n",
       "    .dataframe tbody tr th {\n",
       "        vertical-align: top;\n",
       "    }\n",
       "\n",
       "    .dataframe thead th {\n",
       "        text-align: right;\n",
       "    }\n",
       "</style>\n",
       "<table border=\"1\" class=\"dataframe\">\n",
       "  <thead>\n",
       "    <tr style=\"text-align: right;\">\n",
       "      <th></th>\n",
       "      <th>Date</th>\n",
       "      <th>Profit/Losses</th>\n",
       "    </tr>\n",
       "  </thead>\n",
       "  <tbody>\n",
       "    <tr>\n",
       "      <th>0</th>\n",
       "      <td>Jan-2010</td>\n",
       "      <td>867884</td>\n",
       "    </tr>\n",
       "    <tr>\n",
       "      <th>1</th>\n",
       "      <td>Feb-2010</td>\n",
       "      <td>984655</td>\n",
       "    </tr>\n",
       "    <tr>\n",
       "      <th>2</th>\n",
       "      <td>Mar-2010</td>\n",
       "      <td>322013</td>\n",
       "    </tr>\n",
       "    <tr>\n",
       "      <th>3</th>\n",
       "      <td>Apr-2010</td>\n",
       "      <td>-69417</td>\n",
       "    </tr>\n",
       "    <tr>\n",
       "      <th>4</th>\n",
       "      <td>May-2010</td>\n",
       "      <td>310503</td>\n",
       "    </tr>\n",
       "  </tbody>\n",
       "</table>\n",
       "</div>"
      ],
      "text/plain": [
       "       Date  Profit/Losses\n",
       "0  Jan-2010         867884\n",
       "1  Feb-2010         984655\n",
       "2  Mar-2010         322013\n",
       "3  Apr-2010         -69417\n",
       "4  May-2010         310503"
      ]
     },
     "metadata": {},
     "execution_count": 2
    }
   ],
   "metadata": {}
  },
  {
   "cell_type": "code",
   "execution_count": 3,
   "source": [
    "# Assign columns to their own variables\r\n",
    "dates = df['Date']\r\n",
    "pnl = df['Profit/Losses']\r\n",
    "print(dates.head())\r\n",
    "print()\r\n",
    "print(pnl.head())"
   ],
   "outputs": [
    {
     "output_type": "stream",
     "name": "stdout",
     "text": [
      "0    Jan-2010\n",
      "1    Feb-2010\n",
      "2    Mar-2010\n",
      "3    Apr-2010\n",
      "4    May-2010\n",
      "Name: Date, dtype: object\n",
      "\n",
      "0    867884\n",
      "1    984655\n",
      "2    322013\n",
      "3    -69417\n",
      "4    310503\n",
      "Name: Profit/Losses, dtype: int64\n"
     ]
    }
   ],
   "metadata": {}
  },
  {
   "cell_type": "markdown",
   "source": [
    "## The total number of months included in the dataset"
   ],
   "metadata": {}
  },
  {
   "cell_type": "code",
   "execution_count": 4,
   "source": [
    "# Get the number of entries under the 'Date' column\r\n",
    "totalMonths = int(len(dates))\r\n",
    "print(f'Total Months: {totalMonths}')\r\n"
   ],
   "outputs": [
    {
     "output_type": "stream",
     "name": "stdout",
     "text": [
      "Total Months: 86\n"
     ]
    }
   ],
   "metadata": {}
  },
  {
   "cell_type": "markdown",
   "source": [
    "## The net total amount of Profit/Losses over the entire period"
   ],
   "metadata": {}
  },
  {
   "cell_type": "code",
   "execution_count": 5,
   "source": [
    "# Get the sum of the values under the 'Profit/Losses' column\r\n",
    "netTotal = sum(pnl)\r\n",
    "print(f'Total: ${netTotal:,}')"
   ],
   "outputs": [
    {
     "output_type": "stream",
     "name": "stdout",
     "text": [
      "Total: $38,382,578\n"
     ]
    }
   ],
   "metadata": {}
  },
  {
   "cell_type": "markdown",
   "source": [
    "## The average of the changes in Profit/Losses over the entire period"
   ],
   "metadata": {}
  },
  {
   "cell_type": "code",
   "execution_count": 6,
   "source": [
    "# Create a new column for the month-to-month change\r\n",
    "df['Change'] = pnl.diff()\r\n",
    "\r\n",
    "# Assign 'Change' column to a variable\r\n",
    "change = df['Change']\r\n",
    "print(change.head())\r\n",
    "\r\n",
    "df.head()"
   ],
   "outputs": [
    {
     "output_type": "stream",
     "name": "stdout",
     "text": [
      "0         NaN\n",
      "1    116771.0\n",
      "2   -662642.0\n",
      "3   -391430.0\n",
      "4    379920.0\n",
      "Name: Change, dtype: float64\n"
     ]
    },
    {
     "output_type": "execute_result",
     "data": {
      "text/html": [
       "<div>\n",
       "<style scoped>\n",
       "    .dataframe tbody tr th:only-of-type {\n",
       "        vertical-align: middle;\n",
       "    }\n",
       "\n",
       "    .dataframe tbody tr th {\n",
       "        vertical-align: top;\n",
       "    }\n",
       "\n",
       "    .dataframe thead th {\n",
       "        text-align: right;\n",
       "    }\n",
       "</style>\n",
       "<table border=\"1\" class=\"dataframe\">\n",
       "  <thead>\n",
       "    <tr style=\"text-align: right;\">\n",
       "      <th></th>\n",
       "      <th>Date</th>\n",
       "      <th>Profit/Losses</th>\n",
       "      <th>Change</th>\n",
       "    </tr>\n",
       "  </thead>\n",
       "  <tbody>\n",
       "    <tr>\n",
       "      <th>0</th>\n",
       "      <td>Jan-2010</td>\n",
       "      <td>867884</td>\n",
       "      <td>NaN</td>\n",
       "    </tr>\n",
       "    <tr>\n",
       "      <th>1</th>\n",
       "      <td>Feb-2010</td>\n",
       "      <td>984655</td>\n",
       "      <td>116771.0</td>\n",
       "    </tr>\n",
       "    <tr>\n",
       "      <th>2</th>\n",
       "      <td>Mar-2010</td>\n",
       "      <td>322013</td>\n",
       "      <td>-662642.0</td>\n",
       "    </tr>\n",
       "    <tr>\n",
       "      <th>3</th>\n",
       "      <td>Apr-2010</td>\n",
       "      <td>-69417</td>\n",
       "      <td>-391430.0</td>\n",
       "    </tr>\n",
       "    <tr>\n",
       "      <th>4</th>\n",
       "      <td>May-2010</td>\n",
       "      <td>310503</td>\n",
       "      <td>379920.0</td>\n",
       "    </tr>\n",
       "  </tbody>\n",
       "</table>\n",
       "</div>"
      ],
      "text/plain": [
       "       Date  Profit/Losses    Change\n",
       "0  Jan-2010         867884       NaN\n",
       "1  Feb-2010         984655  116771.0\n",
       "2  Mar-2010         322013 -662642.0\n",
       "3  Apr-2010         -69417 -391430.0\n",
       "4  May-2010         310503  379920.0"
      ]
     },
     "metadata": {},
     "execution_count": 6
    }
   ],
   "metadata": {}
  },
  {
   "cell_type": "code",
   "execution_count": 7,
   "source": [
    "# Get the average change in profit/losses\r\n",
    "avgChange = change.mean()\r\n",
    "print(f'Average Change: ${avgChange:,.2f}')"
   ],
   "outputs": [
    {
     "output_type": "stream",
     "name": "stdout",
     "text": [
      "Average Change: $-2,315.12\n"
     ]
    }
   ],
   "metadata": {}
  },
  {
   "cell_type": "markdown",
   "source": [
    "## The greatest increase in profits (date and amount) over the entire period\r\n"
   ],
   "metadata": {}
  },
  {
   "cell_type": "code",
   "execution_count": 8,
   "source": [
    "# Get the greatest increase\r\n",
    "max = int(change.max())\r\n",
    "\r\n",
    "# Get the date of the greatest increase\r\n",
    "maxDate = df.loc[change == max, 'Date'].iloc[0]\r\n",
    "\r\n",
    "print(f'Greatest Increase in Profits: {maxDate} (${max:,})')"
   ],
   "outputs": [
    {
     "output_type": "stream",
     "name": "stdout",
     "text": [
      "Greatest Increase in Profits: Feb-2012 ($1,926,159)\n"
     ]
    }
   ],
   "metadata": {}
  },
  {
   "cell_type": "markdown",
   "source": [
    "## The greatest decrease in losses (date and amount) over the entire period"
   ],
   "metadata": {}
  },
  {
   "cell_type": "code",
   "execution_count": 9,
   "source": [
    "# Get the greatest decrease\r\n",
    "min = int(change.min())\r\n",
    "\r\n",
    "# Get the date of the greatest decrease\r\n",
    "minDate = df.loc[change == min, 'Date'].iloc[0]\r\n",
    "\r\n",
    "print(f'Greatest Decrease in Profits: {maxDate} (${min:,})')"
   ],
   "outputs": [
    {
     "output_type": "stream",
     "name": "stdout",
     "text": [
      "Greatest Decrease in Profits: Feb-2012 ($-2,196,167)\n"
     ]
    }
   ],
   "metadata": {}
  },
  {
   "cell_type": "markdown",
   "source": [
    "## Print and save the analysis"
   ],
   "metadata": {}
  },
  {
   "cell_type": "code",
   "execution_count": 10,
   "source": [
    "# Print the results in the terminal\r\n",
    "print('Financial Analysis')\r\n",
    "print('----------------------------')\r\n",
    "print(f'Total Months: {totalMonths}')\r\n",
    "print(f'Total: ${netTotal:,}')\r\n",
    "print(f'Average Change: ${avgChange:,.2f}')\r\n",
    "print(f'Greatest Increase in Profits: {maxDate} (${max:,})')\r\n",
    "print(f'Greatest Decrease in Profits: {maxDate} (${min:,})')\r\n"
   ],
   "outputs": [
    {
     "output_type": "stream",
     "name": "stdout",
     "text": [
      "Financial Analysis\n",
      "----------------------------\n",
      "Total Months: 86\n",
      "Total: $38,382,578\n",
      "Average Change: $-2,315.12\n",
      "Greatest Increase in Profits: Feb-2012 ($1,926,159)\n",
      "Greatest Decrease in Profits: Feb-2012 ($-2,196,167)\n"
     ]
    }
   ],
   "metadata": {}
  },
  {
   "cell_type": "code",
   "execution_count": 11,
   "source": [
    "# Write the financial analysis to a .txt file\r\n",
    "output = 'financial_analysis.txt'\r\n",
    "with open(output, 'w') as file:\r\n",
    "    file.write('Financial Analysis\\n')\r\n",
    "    file.write('----------------------------\\n')\r\n",
    "    file.write(f'Total Months: {totalMonths}\\n')\r\n",
    "    file.write(f'Total: ${netTotal:,}\\n')\r\n",
    "    file.write(f'Average Change: ${avgChange:,.2f}\\n')\r\n",
    "    file.write(f'Greatest Increase in Profits: {maxDate} (${max:,})\\n')\r\n",
    "    file.write(f'Greatest Decrease in Profits: {maxDate} (${min:,})\\n')"
   ],
   "outputs": [],
   "metadata": {}
  },
  {
   "cell_type": "code",
   "execution_count": null,
   "source": [],
   "outputs": [],
   "metadata": {}
  }
 ],
 "metadata": {
  "orig_nbformat": 4,
  "language_info": {
   "name": "python",
   "version": "3.7.10",
   "mimetype": "text/x-python",
   "codemirror_mode": {
    "name": "ipython",
    "version": 3
   },
   "pygments_lexer": "ipython3",
   "nbconvert_exporter": "python",
   "file_extension": ".py"
  },
  "kernelspec": {
   "name": "python3",
   "display_name": "Python 3.7.10 64-bit ('dev': conda)"
  },
  "interpreter": {
   "hash": "1a0899f06769b80fbd6e3e60a51404fab10da52191a78f6e478489f228670f09"
  }
 },
 "nbformat": 4,
 "nbformat_minor": 2
}